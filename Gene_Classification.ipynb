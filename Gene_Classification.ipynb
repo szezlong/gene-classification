{
  "nbformat": 4,
  "nbformat_minor": 0,
  "metadata": {
    "colab": {
      "provenance": [],
      "authorship_tag": "ABX9TyMUM1f00ELbusaADKSs5RlE",
      "include_colab_link": true
    },
    "kernelspec": {
      "name": "python3",
      "display_name": "Python 3"
    },
    "language_info": {
      "name": "python"
    }
  },
  "cells": [
    {
      "cell_type": "markdown",
      "metadata": {
        "id": "view-in-github",
        "colab_type": "text"
      },
      "source": [
        "<a href=\"https://colab.research.google.com/github/szezlong/gene-classification/blob/main/Gene_Classification.ipynb\" target=\"_parent\"><img src=\"https://colab.research.google.com/assets/colab-badge.svg\" alt=\"Open In Colab\"/></a>"
      ]
    },
    {
      "cell_type": "markdown",
      "source": [
        "# Klasyfikacja choroby nowotworowej za pomocą analizy ekspresji genów\n",
        "Źródło zbioru danych: https://www.kaggle.com/datasets/crawford/gene-expression/data?select=actual.csv\n",
        "\n",
        "Pochodzi z badania: https://www.dkfz.de/genomics-proteomics/fileadmin/downloads/Expression/Golub_1999.pdf\n",
        "\n",
        "The dataset employed in this research was sourced from bone marrow samples obtained from patients diagnosed with acute leukemia. It included samples of acute lymphoblastic leukemia (ALL) and acute myeloid leukemia (AML).\n",
        "\n",
        "This dataset served as the basis for developing a class predictor to classify new, unknown samples of acute leukemias based on their gene expression profiles."
      ],
      "metadata": {
        "id": "ceW4W5CPeRNg"
      }
    },
    {
      "cell_type": "markdown",
      "source": [
        "##Konfiguracja środowiska"
      ],
      "metadata": {
        "id": "CbYTx46OeKDl"
      }
    },
    {
      "cell_type": "code",
      "execution_count": 1,
      "metadata": {
        "id": "1jqmtW0id1sZ"
      },
      "outputs": [],
      "source": [
        "import pandas as pd\n",
        "import matplotlib.pyplot as plt\n",
        "import numpy as np"
      ]
    },
    {
      "cell_type": "code",
      "source": [
        "import warnings\n",
        "warnings.filterwarnings(\"ignore\", category=DeprecationWarning)"
      ],
      "metadata": {
        "id": "DJAH5lTHd-m3"
      },
      "execution_count": 2,
      "outputs": []
    },
    {
      "cell_type": "markdown",
      "source": [
        "##Dataset"
      ],
      "metadata": {
        "id": "v2kF9kSEePez"
      }
    },
    {
      "cell_type": "code",
      "source": [
        "from google.colab import userdata\n",
        "import os\n",
        "\n",
        "os.environ[\"KAGGLE_KEY\"] = userdata.get('KAGGLE_KEY')\n",
        "os.environ[\"KAGGLE_USERNAME\"] = userdata.get('KAGGLE_USERNAME')"
      ],
      "metadata": {
        "id": "jGT-EEwWeDUm"
      },
      "execution_count": 3,
      "outputs": []
    },
    {
      "cell_type": "code",
      "source": [
        "!kaggle datasets download -d crawford/gene-expression\n",
        "!unzip \"gene-expression.zip\""
      ],
      "metadata": {
        "colab": {
          "base_uri": "https://localhost:8080/"
        },
        "id": "i81qApL0eEnf",
        "outputId": "a6f95282-cd3c-4b9a-aa24-1f73388848ec"
      },
      "execution_count": 5,
      "outputs": [
        {
          "output_type": "stream",
          "name": "stdout",
          "text": [
            "Dataset URL: https://www.kaggle.com/datasets/crawford/gene-expression\n",
            "License(s): CC0-1.0\n",
            "gene-expression.zip: Skipping, found more recently modified local copy (use --force to force download)\n",
            "Archive:  gene-expression.zip\n",
            "  inflating: actual.csv              \n",
            "  inflating: data_set_ALL_AML_independent.csv  \n",
            "  inflating: data_set_ALL_AML_train.csv  \n"
          ]
        }
      ]
    },
    {
      "cell_type": "code",
      "source": [
        "train_df = pd.read_csv('data_set_ALL_AML_train.csv')\n",
        "test_df = pd.read_csv('data_set_ALL_AML_independent.csv')\n",
        "patient_result_df = pd.read_csv('actual.csv')"
      ],
      "metadata": {
        "id": "XFTs4ooHeHTG"
      },
      "execution_count": 7,
      "outputs": []
    },
    {
      "cell_type": "markdown",
      "source": [
        "###Opis danych\n"
      ],
      "metadata": {
        "id": "guNvSECjfMfH"
      }
    },
    {
      "cell_type": "code",
      "source": [
        "patient_result_df['cancer'].value_counts()"
      ],
      "metadata": {
        "colab": {
          "base_uri": "https://localhost:8080/"
        },
        "id": "HlXzNz0thyB9",
        "outputId": "edba011c-633b-444c-b89f-cc6a151afe93"
      },
      "execution_count": 14,
      "outputs": [
        {
          "output_type": "execute_result",
          "data": {
            "text/plain": [
              "cancer\n",
              "ALL    47\n",
              "AML    25\n",
              "Name: count, dtype: int64"
            ]
          },
          "metadata": {},
          "execution_count": 14
        }
      ]
    },
    {
      "cell_type": "markdown",
      "source": [
        "In the training and testing sets there are 72 patients. Each patient is marked either as \"ALL\" or \"AML\" based on the type of leukemia they are diagnosed with."
      ],
      "metadata": {
        "id": "ujeW6SNpolHg"
      }
    },
    {
      "cell_type": "code",
      "source": [],
      "metadata": {
        "id": "oRa6AAb9or0C"
      },
      "execution_count": null,
      "outputs": []
    },
    {
      "cell_type": "markdown",
      "source": [
        "##Preprocessing"
      ],
      "metadata": {
        "id": "Rd5kbZLmo2kK"
      }
    },
    {
      "cell_type": "code",
      "source": [],
      "metadata": {
        "id": "DJEwTQD9o35v"
      },
      "execution_count": null,
      "outputs": []
    },
    {
      "cell_type": "markdown",
      "source": [
        "##Selekcja istotnych genów"
      ],
      "metadata": {
        "id": "RcB7mP56fX-b"
      }
    }
  ]
}